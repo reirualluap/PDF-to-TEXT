{
  "nbformat": 4,
  "nbformat_minor": 0,
  "metadata": {
    "colab": {
      "provenance": [],
      "authorship_tag": "ABX9TyOuIZoRQeb1k4SIdV/JOgJ3",
      "include_colab_link": true
    },
    "kernelspec": {
      "name": "python3",
      "display_name": "Python 3"
    },
    "language_info": {
      "name": "python"
    }
  },
  "cells": [
    {
      "cell_type": "markdown",
      "metadata": {
        "id": "view-in-github",
        "colab_type": "text"
      },
      "source": [
        "<a href=\"https://colab.research.google.com/github/reirualluap/PDF-to-TEXT/blob/main/pdf_to_text.ipynb\" target=\"_parent\"><img src=\"https://colab.research.google.com/assets/colab-badge.svg\" alt=\"Open In Colab\"/></a>"
      ]
    },
    {
      "cell_type": "code",
      "source": [
        "!pip install PyPDF2\n",
        "!pip install regex"
      ],
      "metadata": {
        "id": "Zke11iUOFola"
      },
      "execution_count": null,
      "outputs": []
    },
    {
      "cell_type": "code",
      "source": [
        "import PyPDF2 \n",
        "import re\n",
        "from google.colab import files\n",
        "\n",
        "uploaded = files.upload()\n",
        "\n",
        "def extract_text_from_pdf(pdf_file: str) -> [str]:\n",
        "    with open(pdf_file, 'rb') as pdf:\n",
        "        reader = PyPDF2.PdfReader(pdf)\n",
        "        pdf_text = []\n",
        "        for page in reader.pages:\n",
        "            content = page.extract_text()\n",
        "            pdf_text.append(content)\n",
        "        return pdf_text\n",
        "\n",
        "def split_message(text: str) -> [str]:\n",
        "    return text.split()\n",
        "\n",
        "def main():\n",
        "    pdf_file = list(uploaded.keys())[0]\n",
        "    extracted_text = extract_text_from_pdf(pdf_file)\n",
        "    pdf_filename = pdf_file.split('.')[0]\n",
        "\n",
        "    text_file_path = f\"{pdf_filename}.txt\"\n",
        "\n",
        "    with open(text_file_path, \"w\", encoding=\"utf-8\") as text_file:\n",
        "        for text in extracted_text:\n",
        "            split_message_list = split_message(text)\n",
        "            text_file.write(' '.join(split_message_list))\n",
        "            text_file.write(\"\\n\")\n",
        "\n",
        "        up_text_file_path = files.download(text_file_path)    \n",
        "    return up_text_file_path\n",
        "\n",
        "if __name__ == \"__main__\":\n",
        "    main()\n"
      ],
      "metadata": {
        "id": "gUfWo3_1EF5u"
      },
      "execution_count": null,
      "outputs": []
    }
  ]
}